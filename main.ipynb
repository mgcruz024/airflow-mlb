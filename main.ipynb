{
 "cells": [
  {
   "cell_type": "code",
   "execution_count": null,
   "id": "f29c7165",
   "metadata": {},
   "outputs": [],
   "source": [
    "# import necessary libraries\n",
    "import airflow\n",
    "import requests\n",
    "from funcy import project\n",
    "\n",
    "from airflow import DAG\n",
    "from airflow.operators.python import PythonOperator\n",
    "\n",
    "\n",
    "# define DAG\n",
    "mlb_dag=DAG(\n",
    "    dag_id=\"mlb_info\",\n",
    "    start_date=airflow.utils.dates.days_ago(1),\n",
    "    schedule_interval= None,\n",
    "    #schedule_interval= @weekly\n",
    "    # if you want to schedule weekly stats\n",
    ")\n",
    "\n"
   ]
  },
  {
   "cell_type": "code",
   "execution_count": null,
   "id": "509d0d41",
   "metadata": {},
   "outputs": [],
   "source": [
    "# tasks\n",
    "def _get_team():\n",
    "    response = requests.get(\"http://lookup-service-prod.mlb.com/json/named.team_all_season.bam?sports_code='mlb'&season='2023'\")\n",
    "    teams = response.json()['team_all_season']['queryResults']['row']\n",
    "    print(f\"MLB lookup service API response code for team data: {response.status_code}\")\n",
    "\n",
    "    # find dodgers team id\n",
    "    team_list = list(x['team_id'] for x in teams if x['name_display_full'] == \"Los Angeles Dodgers\")\n",
    "    print(team_list[0])\n"
   ]
  },
  {
   "cell_type": "code",
   "execution_count": null,
   "id": "f13bf21c",
   "metadata": {},
   "outputs": [],
   "source": [
    "'''RETURNS THE 40 MAN ROSTER'''\n",
    "def _get_players(**context):\n",
    "    # fetch team values from team task\n",
    "    team_id = context['task_instance'].xcom_pull(task_ids='get_team')\n",
    "    # x.com_pull()' used to pull a list of return values from one or multiple Airflow tasks\n",
    "\n",
    "    # get player data from API\n",
    "    response = requests.get(f\"https://lookup-service-prod.mlb.com/json/named.roster_40.bam?team_id='{team_id}'\")\n",
    "    players = response.json()['roster_40']['queryResults']['row']\n",
    "    print(f\"MLB lookup service API response code for players data: {response.status_code}\")\n",
    "\n",
    "    # filter to left-handed batters\n",
    "    players_list = list(x for x in players if x['bats'] == 'L')\n",
    "    return players_list\n"
   ]
  },
  {
   "cell_type": "code",
   "execution_count": null,
   "id": "0c5d3b2c",
   "metadata": {},
   "outputs": [],
   "source": [
    "def _write_file():\n",
    "    print(\"_write_file task is running.\")\n",
    "\n",
    "# write operators\n",
    "get_team = PythonOperator(\n",
    "    task_id = \"get_team\",\n",
    "    python_callable=_get_team,\n",
    "    dag=mlb_dag,\n",
    ")\n",
    "\n",
    "get_players = PythonOperator(\n",
    "    task_id = \"get_players\",\n",
    "    python_callable=_get_players,\n",
    "    dag=mlb_dag,\n",
    ")\n",
    "\n",
    "'''get_games = PythonOperator(\n",
    "    task_id = \"get_games\",\n",
    "    python_callable=_get_games,\n",
    "    dag=mlb_dag,\n",
    ")'''\n",
    "\n",
    "write_file = PythonOperator(\n",
    "    task_id = \"write_file\",\n",
    "    python_callable=_write_file,\n",
    "    dag=mlb_dag,\n",
    ")\n",
    "\n",
    "# structure dag\n",
    "get_team >> [get_players, get_team] >> write_file"
   ]
  }
 ],
 "metadata": {
  "kernelspec": {
   "display_name": "Python 3 (ipykernel)",
   "language": "python",
   "name": "python3"
  },
  "language_info": {
   "codemirror_mode": {
    "name": "ipython",
    "version": 3
   },
   "file_extension": ".py",
   "mimetype": "text/x-python",
   "name": "python",
   "nbconvert_exporter": "python",
   "pygments_lexer": "ipython3",
   "version": "3.11.5"
  }
 },
 "nbformat": 4,
 "nbformat_minor": 5
}
